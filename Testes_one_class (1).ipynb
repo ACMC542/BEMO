{
  "nbformat": 4,
  "nbformat_minor": 0,
  "metadata": {
    "colab": {
      "provenance": []
    },
    "kernelspec": {
      "name": "python3",
      "display_name": "Python 3"
    },
    "language_info": {
      "name": "python"
    }
  },
  "cells": [
    {
      "cell_type": "code",
      "source": [
        " !pip install shap\n",
        " !pip install pyod"
      ],
      "metadata": {
        "id": "f9jsBAnX2Je9"
      },
      "execution_count": null,
      "outputs": []
    },
    {
      "cell_type": "code",
      "source": [
        "import pandas as pd\n",
        "import numpy as np\n",
        "import matplotlib.pyplot as plt\n",
        "import seaborn as sns\n",
        "import shap\n",
        "from sklearn.model_selection import train_test_split\n",
        "from xgboost import XGBClassifier, plot_importance\n",
        "from sklearn.metrics import accuracy_score, precision_score, recall_score, f1_score, roc_auc_score, confusion_matrix\n",
        "\n",
        "import warnings\n",
        "warnings.filterwarnings('ignore')\n",
        "plt.style.use('fivethirtyeight')\n",
        "%matplotlib inline"
      ],
      "metadata": {
        "id": "yefYD3Ut2Vls"
      },
      "execution_count": null,
      "outputs": []
    },
    {
      "cell_type": "code",
      "source": [
        "from google.colab import drive\n",
        "drive.mount('/content/drive')\n",
        "cur_path = \"drive/MyDrive/Mafaulda_organizado/\""
      ],
      "metadata": {
        "colab": {
          "base_uri": "https://localhost:8080/"
        },
        "id": "jKhRwOOT2kEm",
        "outputId": "c47bea38-0518-4c79-a900-597880dd4ad4"
      },
      "execution_count": null,
      "outputs": [
        {
          "output_type": "stream",
          "name": "stdout",
          "text": [
            "Drive already mounted at /content/drive; to attempt to forcibly remount, call drive.mount(\"/content/drive\", force_remount=True).\n"
          ]
        }
      ]
    },
    {
      "cell_type": "code",
      "source": [
        "df_train = pd.read_csv(cur_path+\"experiment_one_class/data/no_balanced/train.csv\",sep=\";\")"
      ],
      "metadata": {
        "id": "as-kQTLL3Stp"
      },
      "execution_count": null,
      "outputs": []
    },
    {
      "cell_type": "code",
      "source": [
        "df_test = pd.read_csv(cur_path+\"experiment_one_class/data/balanced/test.csv\",sep=\";\")"
      ],
      "metadata": {
        "id": "sVTwaqpzrHhi"
      },
      "execution_count": null,
      "outputs": []
    },
    {
      "cell_type": "code",
      "source": [
        "df_train['target'].value_counts()"
      ],
      "metadata": {
        "id": "PShIAi3G3VAN",
        "colab": {
          "base_uri": "https://localhost:8080/"
        },
        "outputId": "eb7db595-2ae9-4fed-f930-3cdab7f778aa"
      },
      "execution_count": null,
      "outputs": [
        {
          "output_type": "execute_result",
          "data": {
            "text/plain": [
              "underhang                  441\n",
              "overhang                   411\n",
              "imbalance                  265\n",
              "vertical-misalignment      249\n",
              "horizontal-misalignment    158\n",
              "normal                      36\n",
              "Name: target, dtype: int64"
            ]
          },
          "metadata": {},
          "execution_count": 6
        }
      ]
    },
    {
      "cell_type": "code",
      "source": [
        "df_train = df_train[df_train['target'] == 'normal']"
      ],
      "metadata": {
        "id": "cIJ6YxXc06G-"
      },
      "execution_count": null,
      "outputs": []
    },
    {
      "cell_type": "code",
      "source": [
        "df_test['target'].value_counts()"
      ],
      "metadata": {
        "colab": {
          "base_uri": "https://localhost:8080/"
        },
        "id": "o3K9RMiprS7N",
        "outputId": "11ec0e42-4c3e-4b15-ba34-a0b6625475e3"
      },
      "execution_count": null,
      "outputs": [
        {
          "output_type": "execute_result",
          "data": {
            "text/plain": [
              "underhang                  117\n",
              "overhang                   102\n",
              "imbalance                   68\n",
              "vertical-misalignment       52\n",
              "horizontal-misalignment     39\n",
              "normal                      13\n",
              "Name: target, dtype: int64"
            ]
          },
          "metadata": {},
          "execution_count": 8
        }
      ]
    },
    {
      "cell_type": "code",
      "source": [
        "df_train['target'] = 0\n",
        "df_test['target2'] = df_test['target2'].apply(lambda x : 0 if x == 'normal' else 1)"
      ],
      "metadata": {
        "id": "WOdkYTRR3cut"
      },
      "execution_count": null,
      "outputs": []
    },
    {
      "cell_type": "code",
      "source": [
        "df_test['target'].value_counts()"
      ],
      "metadata": {
        "colab": {
          "base_uri": "https://localhost:8080/"
        },
        "id": "pel3qCxKsX5a",
        "outputId": "d2632bd7-cb60-4dc8-bd90-b9cda26d61a2"
      },
      "execution_count": null,
      "outputs": [
        {
          "output_type": "execute_result",
          "data": {
            "text/plain": [
              "underhang                  117\n",
              "overhang                   102\n",
              "imbalance                   68\n",
              "vertical-misalignment       52\n",
              "horizontal-misalignment     39\n",
              "normal                      13\n",
              "Name: target, dtype: int64"
            ]
          },
          "metadata": {},
          "execution_count": 10
        }
      ]
    },
    {
      "cell_type": "code",
      "source": [
        "df_train['target'].value_counts()"
      ],
      "metadata": {
        "id": "dHIIDlpTBvdp",
        "colab": {
          "base_uri": "https://localhost:8080/"
        },
        "outputId": "13bf6a79-1d4a-4d19-b424-2917e9b633a8"
      },
      "execution_count": null,
      "outputs": [
        {
          "output_type": "execute_result",
          "data": {
            "text/plain": [
              "0    36\n",
              "Name: target, dtype: int64"
            ]
          },
          "metadata": {},
          "execution_count": 11
        }
      ]
    },
    {
      "cell_type": "code",
      "source": [
        "df_test['target2'].value_counts()"
      ],
      "metadata": {
        "colab": {
          "base_uri": "https://localhost:8080/"
        },
        "id": "Z8ANgq87uKNa",
        "outputId": "447d0045-f5d3-49d8-ffb5-05d92210a379"
      },
      "execution_count": null,
      "outputs": [
        {
          "output_type": "execute_result",
          "data": {
            "text/plain": [
              "1    378\n",
              "0     13\n",
              "Name: target2, dtype: int64"
            ]
          },
          "metadata": {},
          "execution_count": 12
        }
      ]
    },
    {
      "cell_type": "code",
      "source": [
        "y_train = df_train['target']\n",
        "X_train = df_train.drop(columns=['target'])"
      ],
      "metadata": {
        "id": "JdGcKQan3r7L"
      },
      "execution_count": null,
      "outputs": []
    },
    {
      "cell_type": "code",
      "source": [
        "y_test = df_test['target2']\n",
        "X_test = df_test.drop(columns=['target', 'target2'])"
      ],
      "metadata": {
        "id": "n3OO2NfBs5si"
      },
      "execution_count": null,
      "outputs": []
    },
    {
      "cell_type": "markdown",
      "source": [
        "\n",
        " **Teste 1**: OCSVM\n",
        "\n",
        "\n",
        "\n",
        "\n"
      ],
      "metadata": {
        "id": "-rcrXRcH1q_p"
      }
    },
    {
      "cell_type": "code",
      "source": [
        "from pyod.models.ocsvm import OCSVM\n",
        "clf = OCSVM()\n",
        "clf.fit(X_train)\n",
        "\n",
        "y_pred = clf.predict(X_test)"
      ],
      "metadata": {
        "id": "ga4sTGpY1xG-"
      },
      "execution_count": null,
      "outputs": []
    },
    {
      "cell_type": "code",
      "source": [
        "confusion = confusion_matrix(y_test, y_pred)\n",
        "accuracy = accuracy_score(y_test, y_pred)\n",
        "precision = precision_score(y_test, y_pred)\n",
        "recall = recall_score(y_test, y_pred)\n",
        "f1 = f1_score(y_test, y_pred)\n",
        "roc_auc = roc_auc_score(y_test, y_pred)\n",
        "TN = confusion[0, 0]\n",
        "FP = confusion[0, 1]\n",
        "FN = confusion[1, 0]\n",
        "TP = confusion[1, 1]"
      ],
      "metadata": {
        "id": "7MutZrAU_shz"
      },
      "execution_count": null,
      "outputs": []
    },
    {
      "cell_type": "code",
      "source": [
        "ax= plt.subplot()\n",
        "sns.heatmap(confusion, annot=True, fmt='g', ax=ax);\n",
        "ax.set_xlabel('Predicted labels');ax.set_ylabel('True labels');\n",
        "ax.set_title('Confusion Matrix');\n",
        "#ax.xaxis.set_ticklabels(['normal', 'anomalia']); ax.yaxis.set_ticklabels(['normal', 'anomalia']);\n"
      ],
      "metadata": {
        "colab": {
          "base_uri": "https://localhost:8080/",
          "height": 508
        },
        "id": "HThbDu89vCJX",
        "outputId": "c0e31295-7f3f-47cc-a419-610a52940a7f"
      },
      "execution_count": null,
      "outputs": [
        {
          "output_type": "display_data",
          "data": {
            "text/plain": [
              "<Figure size 640x480 with 2 Axes>"
            ],
            "image/png": "[encoded data removed]"
          },
          "metadata": {}
        }
      ]
    },
    {
      "cell_type": "markdown",
      "source": [
        "**Teste 2**  ECOD\n",
        "\n"
      ],
      "metadata": {
        "id": "7o_pyItD3Ojw"
      }
    },
    {
      "cell_type": "code",
      "source": [
        "from pyod.models.ecod import ECOD\n",
        "clf = ECOD()\n",
        "clf.fit(X_train)\n",
        "\n",
        "y_pred = clf.predict(X_test)"
      ],
      "metadata": {
        "id": "bIEqcgzB3Vme"
      },
      "execution_count": null,
      "outputs": []
    },
    {
      "cell_type": "code",
      "source": [
        "confusion = confusion_matrix(y_test, y_pred)\n",
        "accuracy = accuracy_score(y_test, y_pred)\n",
        "precision = precision_score(y_test, y_pred)\n",
        "recall = recall_score(y_test, y_pred)\n",
        "f1 = f1_score(y_test, y_pred)\n",
        "roc_auc = roc_auc_score(y_test, y_pred)\n",
        "TN = confusion[0, 0]\n",
        "FP = confusion[0, 1]\n",
        "FN = confusion[1, 0]\n",
        "TP = confusion[1, 1]"
      ],
      "metadata": {
        "id": "MCl-lLtj31nQ"
      },
      "execution_count": null,
      "outputs": []
    },
    {
      "cell_type": "code",
      "source": [
        "print(\"Confusion Matrix:\\n\", confusion)\n",
        "print(\"Verdadeiros Positivos (TP):\", TP)\n",
        "print(\"Falsos Positivos (FP):\", FP)\n",
        "print(\"Verdadeiros Negativos (TN):\", TN)\n",
        "print(\"Falsos Negativos (FN):\", FN)\n",
        "print(\"Accuracy:\", accuracy)\n",
        "print(\"Precision:\", precision)\n",
        "print(\"Recall:\", recall)\n",
        "print(\"F1 Score:\", f1)\n",
        "print(\"ROC AUC Score:\", roc_auc)"
      ],
      "metadata": {
        "id": "dg5ARiLDd0IL"
      },
      "execution_count": null,
      "outputs": []
    },
    {
      "cell_type": "markdown",
      "source": [
        "**Teste 3**  COPOD\n",
        "\n",
        "\n"
      ],
      "metadata": {
        "id": "9D6ymQOw5Qi6"
      }
    },
    {
      "cell_type": "code",
      "source": [
        "from pyod.models.copod import COPOD\n",
        "clf = COPOD()\n",
        "clf.fit(X_train)\n",
        "\n",
        "y_pred = clf.predict(X_test)"
      ],
      "metadata": {
        "id": "1xNjIgRj5mBY"
      },
      "execution_count": null,
      "outputs": []
    },
    {
      "cell_type": "code",
      "source": [
        "print('Accuracy:', np.round(accuracy_score(y_test, y_pred), 4))"
      ],
      "metadata": {
        "id": "dT4Ny_oO5VmR"
      },
      "execution_count": null,
      "outputs": []
    },
    {
      "cell_type": "markdown",
      "source": [
        "**Teste 4** ABOD\n",
        "\n",
        "**RODA** AUC = RUIM"
      ],
      "metadata": {
        "id": "vbxf0C2M7bMT"
      }
    },
    {
      "cell_type": "code",
      "source": [
        "from pyod.models.abod import ABOD\n",
        "clf = ABOD()\n",
        "clf.fit(X_train)\n",
        "\n",
        "y_pred = clf.predict(X_test)"
      ],
      "metadata": {
        "id": "8__cJggp7lHa"
      },
      "execution_count": null,
      "outputs": []
    },
    {
      "cell_type": "code",
      "source": [
        "print('Accuracy:', np.round(accuracy_score(y_test, y_pred), 4))"
      ],
      "metadata": {
        "id": "KaUNI7xe7uHn"
      },
      "execution_count": null,
      "outputs": []
    },
    {
      "cell_type": "code",
      "source": [
        "fpr, tpr, thresholds = roc_curve(y_test, y_pred)\n",
        "print(auc(fpr, tpr))"
      ],
      "metadata": {
        "id": "jEjQDCLZ_9C2"
      },
      "execution_count": null,
      "outputs": []
    },
    {
      "cell_type": "markdown",
      "source": [
        "**Teste 5** fastABOD  X\n",
        "\n",
        "\n",
        "\n"
      ],
      "metadata": {
        "id": "-eZSt_Ro-dGq"
      }
    },
    {
      "cell_type": "code",
      "source": [
        "from pyod.models.abod import ABOD\n",
        "clf = ABOD()\n",
        "clf.fit(X_train)\n",
        "\n",
        "y_pred = clf.predict(X_test)"
      ],
      "metadata": {
        "id": "bCprD6fa-jQ2"
      },
      "execution_count": null,
      "outputs": []
    },
    {
      "cell_type": "code",
      "source": [
        "print('Accuracy:', np.round(accuracy_score(y_test, y_pred), 4))"
      ],
      "metadata": {
        "id": "_pRydawBAp_0"
      },
      "execution_count": null,
      "outputs": []
    },
    {
      "cell_type": "code",
      "source": [
        "fpr, tpr, thresholds = roc_curve(y_test, y_pred)\n",
        "print(auc(fpr, tpr))"
      ],
      "metadata": {
        "id": "g_gaufsvAB7j"
      },
      "execution_count": null,
      "outputs": []
    },
    {
      "cell_type": "markdown",
      "source": [
        "**Teste 6** MAD\n",
        "\n",
        ""
      ],
      "metadata": {
        "id": "aFi09_xS2Oh3"
      }
    },
    {
      "cell_type": "code",
      "source": [
        "from pyod.models.mad import MAD\n",
        "clf = MAD()\n",
        "clf.fit(X_train)\n",
        "\n",
        "y_pred = clf.predict(X_test)"
      ],
      "metadata": {
        "id": "yFDHjN8M2imY"
      },
      "execution_count": null,
      "outputs": []
    },
    {
      "cell_type": "code",
      "source": [
        "print('Accuracy:', np.round(accuracy_score(y_test, y_pred), 4))"
      ],
      "metadata": {
        "id": "iAGlUCkp2sg2"
      },
      "execution_count": null,
      "outputs": []
    },
    {
      "cell_type": "markdown",
      "source": [
        "**Teste 7** SOS\n",
        "\n"
      ],
      "metadata": {
        "id": "8qY066Fd2yhY"
      }
    },
    {
      "cell_type": "code",
      "source": [
        "from pyod.models.sos import SOS\n",
        "clf = SOS()\n",
        "clf.fit(X_train)\n",
        "\n",
        "y_pred = clf.predict(X_test)"
      ],
      "metadata": {
        "id": "_se-4xRD3aVH"
      },
      "execution_count": null,
      "outputs": []
    },
    {
      "cell_type": "code",
      "source": [
        "print('Accuracy:', np.round(accuracy_score(y_test, y_pred), 4))"
      ],
      "metadata": {
        "id": "aR5iq3iU3kv4"
      },
      "execution_count": null,
      "outputs": []
    },
    {
      "cell_type": "code",
      "source": [
        "fpr, tpr, thresholds = roc_curve(y_test, y_pred)\n",
        "print(auc(fpr, tpr))"
      ],
      "metadata": {
        "id": "NgiE1G5jAfFE"
      },
      "execution_count": null,
      "outputs": []
    },
    {
      "cell_type": "markdown",
      "source": [
        "**Teste 8** QMCD\n",
        "\n"
      ],
      "metadata": {
        "id": "CBuh93YF30iW"
      }
    },
    {
      "cell_type": "code",
      "source": [
        "from pyod.models.qmcd import  QMCD\n",
        "clf = QMCD()\n",
        "clf.fit(X_train)\n",
        "\n",
        "y_pred = clf.predict(X_test)"
      ],
      "metadata": {
        "id": "N6QXpVcx3-CD"
      },
      "execution_count": null,
      "outputs": []
    },
    {
      "cell_type": "code",
      "source": [
        "print('Accuracy:', np.round(accuracy_score(y_test, y_pred), 4))"
      ],
      "metadata": {
        "id": "993GeBvk4HSU"
      },
      "execution_count": null,
      "outputs": []
    },
    {
      "cell_type": "code",
      "source": [
        "fpr, tpr, thresholds = roc_curve(y_test, y_pred)\n",
        "print(auc(fpr, tpr))"
      ],
      "metadata": {
        "id": "BGAujiEDAkXD"
      },
      "execution_count": null,
      "outputs": []
    },
    {
      "cell_type": "markdown",
      "source": [
        "**Teste 9** KDE\n"
      ],
      "metadata": {
        "id": "P47JPYI_4Ny_"
      }
    },
    {
      "cell_type": "code",
      "source": [
        "from pyod.models.kde import KDE\n",
        "clf = KDE()\n",
        "clf.fit(X_train)\n",
        "\n",
        "y_pred = clf.predict(X_test)"
      ],
      "metadata": {
        "id": "EOy5u5qH4VJb"
      },
      "execution_count": null,
      "outputs": []
    },
    {
      "cell_type": "code",
      "source": [
        "confusion = confusion_matrix(y_test, y_pred)\n",
        "accuracy = accuracy_score(y_test, y_pred)\n",
        "precision = precision_score(y_test, y_pred)\n",
        "recall = recall_score(y_test, y_pred)\n",
        "f1 = f1_score(y_test, y_pred)\n",
        "roc_auc = roc_auc_score(y_test, y_pred)\n",
        "\n",
        "TN = confusion[0, 0]\n",
        "FP = confusion[0, 1]\n",
        "FN = confusion[1, 0]\n",
        "TP = confusion[1, 1]\n"
      ],
      "metadata": {
        "id": "bFS8vews4fbb"
      },
      "execution_count": null,
      "outputs": []
    },
    {
      "cell_type": "code",
      "source": [
        "\n",
        "print(\"Confusion Matrix:\\n\", confusion)\n",
        "print(\"Verdadeiros Positivos (TP):\", TP)\n",
        "print(\"Falsos Positivos (FP):\", FP)\n",
        "print(\"Verdadeiros Negativos (TN):\", TN)\n",
        "print(\"Falsos Negativos (FN):\", FN)\n",
        "print(\"Accuracy:\", accuracy)\n",
        "print(\"Precision:\", precision)\n",
        "print(\"Recall:\", recall)\n",
        "print(\"F1 Score:\", f1)\n",
        "print(\"ROC AUC Score:\", roc_auc)\n"
      ],
      "metadata": {
        "id": "ZQ9hwQJxAppx"
      },
      "execution_count": null,
      "outputs": []
    },
    {
      "cell_type": "markdown",
      "source": [
        "**Teste 10** SAMPLING\n"
      ],
      "metadata": {
        "id": "MePMuCxB4hU5"
      }
    },
    {
      "cell_type": "code",
      "source": [
        "from pyod.models.sampling import Sampling\n",
        "clf = Sampling()\n",
        "clf.fit(X_train)\n",
        "\n",
        "y_pred = clf.predict(X_test)"
      ],
      "metadata": {
        "id": "MLte7b-q4s60"
      },
      "execution_count": null,
      "outputs": []
    },
    {
      "cell_type": "code",
      "source": [
        "print('Accuracy:', np.round(accuracy_score(y_test, y_pred), 4))"
      ],
      "metadata": {
        "id": "L2neJ-Fp411d"
      },
      "execution_count": null,
      "outputs": []
    },
    {
      "cell_type": "code",
      "source": [
        "fpr, tpr, thresholds = roc_curve(y_test, y_pred)\n",
        "print(auc(fpr, tpr))"
      ],
      "metadata": {
        "id": "LllTo1juAtu4"
      },
      "execution_count": null,
      "outputs": []
    },
    {
      "cell_type": "markdown",
      "source": [
        "**Teste 11** GMM\n"
      ],
      "metadata": {
        "id": "4MXN4gtY49mg"
      }
    },
    {
      "cell_type": "code",
      "source": [
        "from pyod.models.gmm import GMM\n",
        "clf = GMM()\n",
        "clf.fit(X_train)\n",
        "\n",
        "y_pred = clf.predict(X_test)"
      ],
      "metadata": {
        "id": "GkA0MGyn5ENV"
      },
      "execution_count": null,
      "outputs": []
    },
    {
      "cell_type": "code",
      "source": [
        "confusion = confusion_matrix(y_test, y_pred)\n",
        "accuracy = accuracy_score(y_test, y_pred)\n",
        "precision = precision_score(y_test, y_pred)\n",
        "recall = recall_score(y_test, y_pred)\n",
        "f1 = f1_score(y_test, y_pred)\n",
        "roc_auc = roc_auc_score(y_test, y_pred)\n",
        "\n",
        "TN = confusion[0, 0]\n",
        "FP = confusion[0, 1]\n",
        "FN = confusion[1, 0]\n",
        "TP = confusion[1, 1]\n"
      ],
      "metadata": {
        "id": "WaDD9tyq5Za2"
      },
      "execution_count": null,
      "outputs": []
    },
    {
      "cell_type": "code",
      "source": [
        "print(\"Confusion Matrix:\\n\", confusion)\n",
        "print(\"Verdadeiros Positivos (TP):\", TP)\n",
        "print(\"Falsos Positivos (FP):\", FP)\n",
        "print(\"Verdadeiros Negativos (TN):\", TN)\n",
        "print(\"Falsos Negativos (FN):\", FN)\n",
        "print(\"Accuracy:\", accuracy)\n",
        "print(\"Precision:\", precision)\n",
        "print(\"Recall:\", recall)\n",
        "print(\"F1 Score:\", f1)\n",
        "print(\"ROC AUC Score:\", roc_auc)\n"
      ],
      "metadata": {
        "id": "9NvVTKr4AzGT"
      },
      "execution_count": null,
      "outputs": []
    },
    {
      "cell_type": "markdown",
      "source": [
        "**Teste 12** PCA\n",
        "\n"
      ],
      "metadata": {
        "id": "lCV1ysjv5eHY"
      }
    },
    {
      "cell_type": "code",
      "source": [
        "from pyod.models.pca import PCA\n",
        "clf = PCA()\n",
        "clf.fit(X_train)\n",
        "\n",
        "y_pred = clf.predict(X_test)"
      ],
      "metadata": {
        "id": "PcTAJaud5lu_"
      },
      "execution_count": null,
      "outputs": []
    },
    {
      "cell_type": "code",
      "source": [
        "confusion = confusion_matrix(y_test, y_pred)\n",
        "accuracy = accuracy_score(y_test, y_pred)\n",
        "precision = precision_score(y_test, y_pred)\n",
        "recall = recall_score(y_test, y_pred)\n",
        "f1 = f1_score(y_test, y_pred)\n",
        "roc_auc = roc_auc_score(y_test, y_pred)\n",
        "\n",
        "TN = confusion[0, 0]\n",
        "FP = confusion[0, 1]\n",
        "FN = confusion[1, 0]\n",
        "TP = confusion[1, 1]\n"
      ],
      "metadata": {
        "id": "iKQmMA5m5qZd"
      },
      "execution_count": null,
      "outputs": []
    },
    {
      "cell_type": "code",
      "source": [
        "print(\"Confusion Matrix:\\n\", confusion)\n",
        "print(\"Verdadeiros Positivos (TP):\", TP)\n",
        "print(\"Falsos Positivos (FP):\", FP)\n",
        "print(\"Verdadeiros Negativos (TN):\", TN)\n",
        "print(\"Falsos Negativos (FN):\", FN)\n",
        "print(\"Accuracy:\", accuracy)\n",
        "print(\"Precision:\", precision)\n",
        "print(\"Recall:\", recall)\n",
        "print(\"F1 Score:\", f1)\n",
        "print(\"ROC AUC Score:\", roc_auc)\n"
      ],
      "metadata": {
        "id": "rufJYLfBA3Qt"
      },
      "execution_count": null,
      "outputs": []
    },
    {
      "cell_type": "markdown",
      "source": [
        "**Teste 13** KPCA\n"
      ],
      "metadata": {
        "id": "741a1BIs5xYG"
      }
    },
    {
      "cell_type": "code",
      "source": [
        "from pyod.models.kpca import KPCA\n",
        "clf = KPCA()\n",
        "clf.fit(X_train)\n",
        "\n",
        "y_pred = clf.predict(X_test)"
      ],
      "metadata": {
        "id": "afHiLXsT56lH"
      },
      "execution_count": null,
      "outputs": []
    },
    {
      "cell_type": "code",
      "source": [
        "print('Accuracy:', np.round(accuracy_score(y_test, y_pred), 4))"
      ],
      "metadata": {
        "id": "TNeGUQxc5_S4"
      },
      "execution_count": null,
      "outputs": []
    },
    {
      "cell_type": "code",
      "source": [
        "fpr, tpr, thresholds = roc_curve(y_test, y_pred)\n",
        "print(auc(fpr, tpr))"
      ],
      "metadata": {
        "id": "5guCP2QwA8n0"
      },
      "execution_count": null,
      "outputs": []
    },
    {
      "cell_type": "markdown",
      "source": [
        "**Teste 14** MCD\n",
        "\n"
      ],
      "metadata": {
        "id": "DPnXYvV86Eud"
      }
    },
    {
      "cell_type": "code",
      "source": [
        "from pyod.models.mcd import MCD\n",
        "clf = MCD()\n",
        "clf.fit(X_train)\n",
        "\n",
        "y_pred = clf.predict(X_test)"
      ],
      "metadata": {
        "id": "7S2BjXMu6NzE"
      },
      "execution_count": null,
      "outputs": []
    },
    {
      "cell_type": "code",
      "source": [
        "print('Accuracy:', np.round(accuracy_score(y_test, y_pred), 4))"
      ],
      "metadata": {
        "id": "jwxMEfzf6ZXi"
      },
      "execution_count": null,
      "outputs": []
    },
    {
      "cell_type": "code",
      "source": [
        "fpr, tpr, thresholds = roc_curve(y_test, y_pred)\n",
        "print(auc(fpr, tpr))"
      ],
      "metadata": {
        "id": "jkW_RBo7BFjh"
      },
      "execution_count": null,
      "outputs": []
    },
    {
      "cell_type": "markdown",
      "source": [
        "**Teste 14** CD\n",
        "\n",
        "**NÃO RODA**"
      ],
      "metadata": {
        "id": "_zeRp3Ba6aj1"
      }
    },
    {
      "cell_type": "code",
      "source": [
        "from pyod.models.cd import CD\n",
        "clf = CD()\n",
        "clf.fit(X_train)\n",
        "\n",
        "y_pred = clf.predict(X_test)"
      ],
      "metadata": {
        "id": "1TcvhHE96kF2"
      },
      "execution_count": null,
      "outputs": []
    },
    {
      "cell_type": "code",
      "source": [
        "houses = pd.read_csv(\"drive/MyDrive/Mafaulda_organizado/mafaulda_final.csv\")\n",
        "original_length = len(houses)\n",
        "houses.head()"
      ],
      "metadata": {
        "id": "so8VVcXRCo7i"
      },
      "execution_count": null,
      "outputs": []
    },
    {
      "cell_type": "code",
      "source": [
        "houses.replace({\"-\": 0}, inplace=True)\n",
        "houses[\"x_test\"] = houses[\"x_test\"].astype(int)\n",
        "# Apart from this, there is no other potentially missing data in the dataset\n",
        "\n",
        "# Only selecting numeric columns\n",
        "houses = houses.select_dtypes(include=np.number)"
      ],
      "metadata": {
        "id": "6DyX8IyTDpr7"
      },
      "execution_count": null,
      "outputs": []
    },
    {
      "cell_type": "code",
      "source": [
        "print('Accuracy:', np.round(accuracy_score(y_test, y_pred), 4))"
      ],
      "metadata": {
        "id": "t3qZ0hdX6vx6"
      },
      "execution_count": null,
      "outputs": []
    },
    {
      "cell_type": "markdown",
      "source": [
        "**Teste 15** LMDD\n"
      ],
      "metadata": {
        "id": "IifFTcOJ6y3y"
      }
    },
    {
      "cell_type": "code",
      "source": [
        "from pyod.models.lmdd import LMDD\n",
        "clf = LMDD()\n",
        "clf.fit(X_train)\n",
        "\n",
        "y_pred = clf.predict(X_test)"
      ],
      "metadata": {
        "id": "2dGEoPMr7CzX"
      },
      "execution_count": null,
      "outputs": []
    },
    {
      "cell_type": "code",
      "source": [
        "\n",
        "print('Accuracy:', np.round(accuracy_score(y_test, y_pred), 4))"
      ],
      "metadata": {
        "id": "88Ql8_Z27ILg"
      },
      "execution_count": null,
      "outputs": []
    },
    {
      "cell_type": "markdown",
      "source": [
        "**Teste 16** LOF\n",
        "\n"
      ],
      "metadata": {
        "id": "oET6upep7PxZ"
      }
    },
    {
      "cell_type": "code",
      "source": [
        "from pyod.models.lof import LOF\n",
        "\n",
        "\n",
        "clf = LOF()\n",
        "clf.fit(X_train)\n",
        "\n",
        "y_pred = clf.predict(X_test)"
      ],
      "metadata": {
        "id": "XWFtuftc7pK3",
        "colab": {
          "base_uri": "https://localhost:8080/",
          "height": 246
        },
        "outputId": "5665775f-7e00-4998-9534-f338d350b3c8"
      },
      "execution_count": null,
      "outputs": [
        {
          "output_type": "error",
          "ename": "NameError",
          "evalue": "ignored",
          "traceback": [
            "\u001b[0;31m---------------------------------------------------------------------------\u001b[0m",
            "\u001b[0;31mNameError\u001b[0m                                 Traceback (most recent call last)",
            "\u001b[0;32m<ipython-input-1-396d9379e051>\u001b[0m in \u001b[0;36m<cell line: 3>\u001b[0;34m()\u001b[0m\n\u001b[1;32m      1\u001b[0m \u001b[0;32mfrom\u001b[0m \u001b[0mpyod\u001b[0m\u001b[0;34m.\u001b[0m\u001b[0mmodels\u001b[0m\u001b[0;34m.\u001b[0m\u001b[0mlof\u001b[0m \u001b[0;32mimport\u001b[0m \u001b[0mLOF\u001b[0m\u001b[0;34m\u001b[0m\u001b[0;34m\u001b[0m\u001b[0m\n\u001b[1;32m      2\u001b[0m \u001b[0mclf\u001b[0m \u001b[0;34m=\u001b[0m \u001b[0mLOF\u001b[0m\u001b[0;34m(\u001b[0m\u001b[0;34m)\u001b[0m\u001b[0;34m\u001b[0m\u001b[0;34m\u001b[0m\u001b[0m\n\u001b[0;32m----> 3\u001b[0;31m \u001b[0mclf\u001b[0m\u001b[0;34m.\u001b[0m\u001b[0mfit\u001b[0m\u001b[0;34m(\u001b[0m\u001b[0mX_train\u001b[0m\u001b[0;34m)\u001b[0m\u001b[0;34m\u001b[0m\u001b[0;34m\u001b[0m\u001b[0m\n\u001b[0m\u001b[1;32m      4\u001b[0m \u001b[0;34m\u001b[0m\u001b[0m\n\u001b[1;32m      5\u001b[0m \u001b[0my_pred\u001b[0m \u001b[0;34m=\u001b[0m \u001b[0mclf\u001b[0m\u001b[0;34m.\u001b[0m\u001b[0mpredict\u001b[0m\u001b[0;34m(\u001b[0m\u001b[0mX_test\u001b[0m\u001b[0;34m)\u001b[0m\u001b[0;34m\u001b[0m\u001b[0;34m\u001b[0m\u001b[0m\n",
            "\u001b[0;31mNameError\u001b[0m: name 'X_train' is not defined"
          ]
        }
      ]
    },
    {
      "cell_type": "code",
      "source": [
        "print('Accuracy:', np.round(accuracy_score(y_test, y_pred), 4))"
      ],
      "metadata": {
        "id": "NbnMVtLi7wD6"
      },
      "execution_count": null,
      "outputs": []
    },
    {
      "cell_type": "code",
      "source": [
        "fpr, tpr, thresholds = roc_curve(y_test, y_pred)\n",
        "print(auc(fpr, tpr))"
      ],
      "metadata": {
        "id": "v8_GJ76td_cu"
      },
      "execution_count": null,
      "outputs": []
    },
    {
      "cell_type": "markdown",
      "source": [
        "**Teste 17** COF\n",
        "\n"
      ],
      "metadata": {
        "id": "Q1W7UbgS7xK_"
      }
    },
    {
      "cell_type": "code",
      "source": [
        "from pyod.models.cof import COF\n",
        "clf = COF()\n",
        "clf.fit(X_train)\n",
        "\n",
        "y_pred = clf.predict(X_test)"
      ],
      "metadata": {
        "id": "gsC9yZkI74G8"
      },
      "execution_count": null,
      "outputs": []
    },
    {
      "cell_type": "code",
      "source": [
        "print('Accuracy:', np.round(accuracy_score(y_test, y_pred), 4))"
      ],
      "metadata": {
        "id": "RaHgXoVW7-_J"
      },
      "execution_count": null,
      "outputs": []
    },
    {
      "cell_type": "code",
      "source": [
        "fpr, tpr, thresholds = roc_curve(y_test, y_pred)\n",
        "print(auc(fpr, tpr))"
      ],
      "metadata": {
        "id": "Cqk1nabxQSsc"
      },
      "execution_count": null,
      "outputs": []
    },
    {
      "cell_type": "markdown",
      "source": [
        "**Teste 18** CBLOF\n",
        "\n",
        "**NÃO RODA**"
      ],
      "metadata": {
        "id": "nXee5e5P8BwP"
      }
    },
    {
      "cell_type": "code",
      "source": [
        "from pyod.models.cblof import CBLOF\n",
        "clf = CBLOF()\n",
        "clf.fit(X_train)\n",
        "\n",
        "y_pred = clf.predict(X_test)"
      ],
      "metadata": {
        "id": "INYtPF0k8PP4"
      },
      "execution_count": null,
      "outputs": []
    },
    {
      "cell_type": "code",
      "source": [
        "print('Accuracy:', np.round(accuracy_score(y_test, y_pred), 4))"
      ],
      "metadata": {
        "id": "7Q4jFJv18VO5"
      },
      "execution_count": null,
      "outputs": []
    },
    {
      "cell_type": "code",
      "source": [
        "fpr, tpr, thresholds = roc_curve(y_test, y_pred)\n",
        "print(auc(fpr, tpr))"
      ],
      "metadata": {
        "id": "O0QRmmzhQcft"
      },
      "execution_count": null,
      "outputs": []
    },
    {
      "cell_type": "markdown",
      "source": [
        "**Teste 19** LOCI\n",
        "\n"
      ],
      "metadata": {
        "id": "oOEqDtMe8ai4"
      }
    },
    {
      "cell_type": "code",
      "source": [
        "from pyod.models.loci import LOCI\n",
        "clf = LOCI()\n",
        "clf.fit(X_train)\n",
        "\n",
        "y_pred = clf.predict(X_test)"
      ],
      "metadata": {
        "id": "tRdhyME28ivD"
      },
      "execution_count": null,
      "outputs": []
    },
    {
      "cell_type": "code",
      "source": [
        "print('Accuracy:', np.round(accuracy_score(y_test, y_pred), 4))"
      ],
      "metadata": {
        "id": "OMUgQeO18o6U"
      },
      "execution_count": null,
      "outputs": []
    },
    {
      "cell_type": "markdown",
      "source": [
        "**Teste 20** HBOS\n",
        "\n"
      ],
      "metadata": {
        "id": "whbi_H6V8xXj"
      }
    },
    {
      "cell_type": "code",
      "source": [
        "from pyod.models.hbos import HBOS\n",
        "clf = HBOS()\n",
        "clf.fit(X_train)\n",
        "\n",
        "y_pred = clf.predict(X_test)"
      ],
      "metadata": {
        "id": "wYJr0id8CvXM"
      },
      "execution_count": null,
      "outputs": []
    },
    {
      "cell_type": "code",
      "source": [
        "print('Accuracy:', np.round(accuracy_score(y_test, y_pred), 4))"
      ],
      "metadata": {
        "id": "10lg6viDC0kg"
      },
      "execution_count": null,
      "outputs": []
    },
    {
      "cell_type": "markdown",
      "source": [
        "**Teste 21** KNN\n",
        "\n"
      ],
      "metadata": {
        "id": "IxGFTE9LC3c0"
      }
    },
    {
      "cell_type": "code",
      "source": [
        "from pyod.models.knn import KNN\n",
        "clf = KNN()\n",
        "clf.fit(X_train)\n",
        "\n",
        "y_pred = clf.predict(X_test)"
      ],
      "metadata": {
        "id": "15CRS4P2DPKy"
      },
      "execution_count": null,
      "outputs": []
    },
    {
      "cell_type": "code",
      "source": [
        "print('Accuracy:', np.round(accuracy_score(y_test, y_pred), 4))"
      ],
      "metadata": {
        "id": "flYQD_38DTmb"
      },
      "execution_count": null,
      "outputs": []
    },
    {
      "cell_type": "markdown",
      "source": [
        "**Teste 22** AvgKNN\n"
      ],
      "metadata": {
        "id": "AZk_T-pGDYus"
      }
    },
    {
      "cell_type": "code",
      "source": [
        "from pyod.models.AVG_KNN import AVG_KNN\n",
        "clf = AVG_KNN()\n",
        "clf.fit(X_train)\n",
        "\n",
        "y_pred = clf.predict(X_test)"
      ],
      "metadata": {
        "id": "uXKdv5Q-DhFa"
      },
      "execution_count": null,
      "outputs": []
    },
    {
      "cell_type": "code",
      "source": [
        "print('Accuracy:', np.round(accuracy_score(y_test, y_pred), 4))"
      ],
      "metadata": {
        "id": "UDJRqzrlDzG9"
      },
      "execution_count": null,
      "outputs": []
    },
    {
      "cell_type": "markdown",
      "source": [
        "**Teste 23** SOD\n",
        "\n"
      ],
      "metadata": {
        "id": "MLc-G9GYD19F"
      }
    },
    {
      "cell_type": "code",
      "source": [
        "from pyod.models.sod import SOD\n",
        "clf = SOD()\n",
        "clf.fit(X_train)\n",
        "\n",
        "y_pred = clf.predict(X_test)"
      ],
      "metadata": {
        "id": "aRivouHWEBQi"
      },
      "execution_count": null,
      "outputs": []
    },
    {
      "cell_type": "code",
      "source": [
        "print('Accuracy:', np.round(accuracy_score(y_test, y_pred), 4))"
      ],
      "metadata": {
        "id": "oIF8vjPREG1k"
      },
      "execution_count": null,
      "outputs": []
    },
    {
      "cell_type": "markdown",
      "source": [
        "**Teste 24** ROD\n",
        "\n"
      ],
      "metadata": {
        "id": "OGCxSebNEVqo"
      }
    },
    {
      "cell_type": "code",
      "source": [
        "from pyod.models.rod import ROD\n",
        "clf = ROD()\n",
        "clf.fit(X_train)\n",
        "\n",
        "y_pred = clf.predict(X_test)"
      ],
      "metadata": {
        "id": "AMHLrh-uEcnm"
      },
      "execution_count": null,
      "outputs": []
    },
    {
      "cell_type": "code",
      "source": [
        "print('Accuracy:', np.round(accuracy_score(y_test, y_pred), 4))"
      ],
      "metadata": {
        "id": "QU4Fut27EjJS"
      },
      "execution_count": null,
      "outputs": []
    },
    {
      "cell_type": "markdown",
      "source": [
        "**Teste 24** IFOREST\n",
        "\n"
      ],
      "metadata": {
        "id": "4ugFZaASE4qW"
      }
    },
    {
      "cell_type": "code",
      "source": [
        "from pyod.models.iforest import IFOREST\n",
        "clf = IFOREST()\n",
        "clf.fit(X_train)\n",
        "\n",
        "y_pred = clf.predict(X_test)"
      ],
      "metadata": {
        "id": "oBq1uQF6FB4s"
      },
      "execution_count": null,
      "outputs": []
    },
    {
      "cell_type": "code",
      "source": [
        "print('Accuracy:', np.round(accuracy_score(y_test, y_pred), 4))"
      ],
      "metadata": {
        "id": "-b85TcsNFQGZ"
      },
      "execution_count": null,
      "outputs": []
    },
    {
      "cell_type": "markdown",
      "source": [
        "**Teste 25** INNE\n",
        "\n",
        "**NÃO RODA**"
      ],
      "metadata": {
        "id": "7fQ36L7UFSTF"
      }
    },
    {
      "cell_type": "code",
      "source": [
        "from pyod.models.inne import INNE\n",
        "clf = INNE()\n",
        "clf.fit(X_train)\n",
        "\n",
        "y_pred = clf.predict(X_test)"
      ],
      "metadata": {
        "id": "njPtKTu6Fcej"
      },
      "execution_count": null,
      "outputs": []
    },
    {
      "cell_type": "code",
      "source": [
        "print('Accuracy:', np.round(accuracy_score(y_test, y_pred), 4))"
      ],
      "metadata": {
        "id": "pssSql7bFk0j"
      },
      "execution_count": null,
      "outputs": []
    },
    {
      "cell_type": "markdown",
      "source": [
        "**Teste 26** FB\n",
        "\n",
        "**NÃO RODA**"
      ],
      "metadata": {
        "id": "46Rp2mIgFpwW"
      }
    },
    {
      "cell_type": "code",
      "source": [
        "from pyod.models.fb import FB\n",
        "clf = FB()\n",
        "clf.fit(X_train)\n",
        "\n",
        "y_pred = clf.predict(X_test)"
      ],
      "metadata": {
        "id": "-Enw046nFwIm"
      },
      "execution_count": null,
      "outputs": []
    },
    {
      "cell_type": "code",
      "source": [
        "print('Accuracy:', np.round(accuracy_score(y_test, y_pred), 4))"
      ],
      "metadata": {
        "id": "JWgW7TwjF9oM"
      },
      "execution_count": null,
      "outputs": []
    },
    {
      "cell_type": "markdown",
      "source": [
        "**Teste 26** LSCP\n",
        "\n",
        "**NÃO RODA**"
      ],
      "metadata": {
        "id": "diIPvy_UGBXg"
      }
    },
    {
      "cell_type": "code",
      "source": [
        "from pyod.models.lscp import LSCP\n",
        "clf = LSCP()\n",
        "clf.fit(X_train)\n",
        "\n",
        "y_pred = clf.predict(X_test)"
      ],
      "metadata": {
        "id": "eDDAGaD8GKiT"
      },
      "execution_count": null,
      "outputs": []
    },
    {
      "cell_type": "code",
      "source": [
        "print('Accuracy:', np.round(accuracy_score(y_test, y_pred), 4))"
      ],
      "metadata": {
        "id": "t_4Tlb8LGQ-j"
      },
      "execution_count": null,
      "outputs": []
    },
    {
      "cell_type": "markdown",
      "source": [
        "**Teste 27** XGBOD\n",
        "\n",
        "**NÃO RODA**"
      ],
      "metadata": {
        "id": "SHYuk-PhGVrm"
      }
    },
    {
      "cell_type": "code",
      "source": [
        "from pyod.models.xgbod import XGBOD\n",
        "clf = XGBOD()\n",
        "clf.fit(X_train)\n",
        "\n",
        "y_pred = clf.predict(X_test)"
      ],
      "metadata": {
        "id": "bzPq6KahGmzI"
      },
      "execution_count": null,
      "outputs": []
    },
    {
      "cell_type": "code",
      "source": [
        "print('Accuracy:', np.round(accuracy_score(y_test, y_pred), 4))"
      ],
      "metadata": {
        "id": "rz2yWJTlHCzN"
      },
      "execution_count": null,
      "outputs": []
    },
    {
      "cell_type": "markdown",
      "source": [
        "**Teste 28** LODA\n",
        "\n",
        "**NÃO RODA**"
      ],
      "metadata": {
        "id": "qtEiRmmfHGNb"
      }
    },
    {
      "cell_type": "code",
      "source": [
        "from pyod.models.loda import LODA\n",
        "clf = LODA()\n",
        "clf.fit(X_train)\n",
        "\n",
        "y_pred = clf.predict(X_test)"
      ],
      "metadata": {
        "id": "p5MUNFJ6HNMk"
      },
      "execution_count": null,
      "outputs": []
    },
    {
      "cell_type": "code",
      "source": [
        "print('Accuracy:', np.round(accuracy_score(y_test, y_pred), 4))"
      ],
      "metadata": {
        "id": "c5Vh-UX0HTai"
      },
      "execution_count": null,
      "outputs": []
    },
    {
      "cell_type": "markdown",
      "source": [
        "**Teste 29** SUOD\n",
        "\n",
        "**NÃO RODA**"
      ],
      "metadata": {
        "id": "CxC77P68HVqR"
      }
    },
    {
      "cell_type": "code",
      "source": [
        "from pyod.models.suod import SUOD\n",
        "clf = SUOD()\n",
        "clf.fit(X_train)\n",
        "\n",
        "y_pred = clf.predict(X_test)"
      ],
      "metadata": {
        "id": "vID2HwDuHhUO"
      },
      "execution_count": null,
      "outputs": []
    },
    {
      "cell_type": "code",
      "source": [
        "print('Accuracy:', np.round(accuracy_score(y_test, y_pred), 4))"
      ],
      "metadata": {
        "id": "clUOGLjgHmFq"
      },
      "execution_count": null,
      "outputs": []
    },
    {
      "cell_type": "markdown",
      "source": [
        "**Teste 30** AUTOENCODER\n",
        "**NÃO RODA**"
      ],
      "metadata": {
        "id": "llEtdCN-Hrkn"
      }
    },
    {
      "cell_type": "code",
      "source": [
        "from pyod.models.auto_encoder import AUTO_ENCODER\n",
        "clf = AUTO_ENCODER()\n",
        "clf.fit(X_train)\n",
        "\n",
        "y_pred = clf.predict(X_test)"
      ],
      "metadata": {
        "id": "GbDC0ro4H7RG"
      },
      "execution_count": null,
      "outputs": []
    },
    {
      "cell_type": "code",
      "source": [
        "print('Accuracy:', np.round(accuracy_score(y_test, y_pred), 4))"
      ],
      "metadata": {
        "id": "Pwt1oaseILy7"
      },
      "execution_count": null,
      "outputs": []
    },
    {
      "cell_type": "markdown",
      "source": [
        "**Teste 31** VAE\n",
        "\n",
        "**NÃO RODA**"
      ],
      "metadata": {
        "id": "ynwZjQaDIOWu"
      }
    },
    {
      "cell_type": "code",
      "source": [
        "from pyod.models.vae import VAE\n",
        "clf = VAE()\n",
        "clf.fit(X_train)\n",
        "\n",
        "y_pred = clf.predict(X_test)"
      ],
      "metadata": {
        "id": "Yz1SvJkBIU1e"
      },
      "execution_count": null,
      "outputs": []
    },
    {
      "cell_type": "code",
      "source": [
        "print('Accuracy:', np.round(accuracy_score(y_test, y_pred), 4))"
      ],
      "metadata": {
        "id": "iKpxBRO3IaS_"
      },
      "execution_count": null,
      "outputs": []
    },
    {
      "cell_type": "markdown",
      "source": [
        "**Teste 32** BETA-VAE\n",
        "\n",
        "**NÃO RODA**"
      ],
      "metadata": {
        "id": "a2bD-ZqSIntT"
      }
    },
    {
      "cell_type": "code",
      "source": [
        "from pyod.models.betavae import BETAVAE\n",
        "clf = BETAVAE()\n",
        "clf.fit(X_train)\n",
        "\n",
        "y_pred = clf.predict(X_test)"
      ],
      "metadata": {
        "id": "wcDYuNWwItzb"
      },
      "execution_count": null,
      "outputs": []
    },
    {
      "cell_type": "code",
      "source": [
        "print('Accuracy:', np.round(accuracy_score(y_test, y_pred), 4))"
      ],
      "metadata": {
        "id": "4eys9vBnJAKE"
      },
      "execution_count": null,
      "outputs": []
    },
    {
      "cell_type": "markdown",
      "source": [
        "**Teste 33** SO_GAAL\n",
        "\n",
        "**NÃO RODA**"
      ],
      "metadata": {
        "id": "VpHIYjD0JBAw"
      }
    },
    {
      "cell_type": "code",
      "source": [
        "from pyod.models.so_gaal import SO_GAAL\n",
        "clf = SO_GAAL()\n",
        "clf.fit(X_train)\n",
        "\n",
        "y_pred = clf.predict(X_test)"
      ],
      "metadata": {
        "id": "H8GoI75aJKj4"
      },
      "execution_count": null,
      "outputs": []
    },
    {
      "cell_type": "code",
      "source": [],
      "metadata": {
        "id": "G0787E-mJd8S"
      },
      "execution_count": null,
      "outputs": []
    },
    {
      "cell_type": "code",
      "source": [
        "print('Accuracy:', np.round(accuracy_score(y_test, y_pred), 4))"
      ],
      "metadata": {
        "id": "p9Qk6yEDJeDU"
      },
      "execution_count": null,
      "outputs": []
    },
    {
      "cell_type": "markdown",
      "source": [
        "**Teste 34** MO_GAAL\n",
        "\n",
        "**NÃO RODA**"
      ],
      "metadata": {
        "id": "K6HHxkkeJgDj"
      }
    },
    {
      "cell_type": "code",
      "source": [
        "from pyod.models.mo_gaal import MO_GAAL\n",
        "clf = MO_GAAL()\n",
        "clf.fit(X_train)\n",
        "\n",
        "y_pred = clf.predict(X_test)"
      ],
      "metadata": {
        "id": "_kf9uJwhJpAs"
      },
      "execution_count": null,
      "outputs": []
    },
    {
      "cell_type": "code",
      "source": [
        "print('Accuracy:', np.round(accuracy_score(y_test, y_pred), 4))"
      ],
      "metadata": {
        "id": "3ojk0fjvJ5sf"
      },
      "execution_count": null,
      "outputs": []
    },
    {
      "cell_type": "markdown",
      "source": [
        "**Teste 35** DEEPSVDD\n",
        "\n",
        "**NÃO RODA**"
      ],
      "metadata": {
        "id": "29fX8BnaKAFv"
      }
    },
    {
      "cell_type": "code",
      "source": [
        "from pyod.models.deep_svdd import DEEP_SVDD\n",
        "clf = DEEP_SVDD()\n",
        "clf.fit(X_train)\n",
        "\n",
        "y_pred = clf.predict(X_test)"
      ],
      "metadata": {
        "id": "pGcHOkZxKNLC"
      },
      "execution_count": null,
      "outputs": []
    },
    {
      "cell_type": "code",
      "source": [
        "print('Accuracy:', np.round(accuracy_score(y_test, y_pred), 4))"
      ],
      "metadata": {
        "id": "q80nC1uXKYiP"
      },
      "execution_count": null,
      "outputs": []
    },
    {
      "cell_type": "markdown",
      "source": [
        "**Teste 36** ANOGAN\n",
        "\n",
        "**NÃO RODA**"
      ],
      "metadata": {
        "id": "dFWzL5cLKZfL"
      }
    },
    {
      "cell_type": "code",
      "source": [
        "from pyod.models.anogan import ANOGAN\n",
        "clf = ANOGAN()\n",
        "clf.fit(X_train)\n",
        "\n",
        "y_pred = clf.predict(X_test)"
      ],
      "metadata": {
        "id": "2bLhwJ-XKnUJ"
      },
      "execution_count": null,
      "outputs": []
    },
    {
      "cell_type": "code",
      "source": [
        "print('Accuracy:', np.round(accuracy_score(y_test, y_pred), 4))"
      ],
      "metadata": {
        "id": "O4LaglJLKwUx"
      },
      "execution_count": null,
      "outputs": []
    },
    {
      "cell_type": "markdown",
      "source": [
        "**Teste 37** ALAD\n",
        "\n",
        "**NÃO RODA**"
      ],
      "metadata": {
        "id": "GSgYSoFMK0Im"
      }
    },
    {
      "cell_type": "code",
      "source": [
        "from pyod.models.alad import ALAD\n",
        "clf = ALAD()\n",
        "clf.fit(X_train)\n",
        "\n",
        "y_pred = clf.predict(X_test)"
      ],
      "metadata": {
        "id": "_osuXa4PK8BM"
      },
      "execution_count": null,
      "outputs": []
    },
    {
      "cell_type": "code",
      "source": [
        "print('Accuracy:', np.round(accuracy_score(y_test, y_pred), 4))"
      ],
      "metadata": {
        "id": "rQCQwHL_LBvx"
      },
      "execution_count": null,
      "outputs": []
    },
    {
      "cell_type": "markdown",
      "source": [
        "**Teste 38** R-GRAPH\n",
        "\n",
        "**NÃO RODA**"
      ],
      "metadata": {
        "id": "SxsCcRscLPlz"
      }
    },
    {
      "cell_type": "code",
      "source": [
        "from pyod.models.rgraph import RGraph\n",
        "clf = RGraph()\n",
        "clf.fit(X_train)\n",
        "\n",
        "y_pred = clf.predict(X_test)"
      ],
      "metadata": {
        "id": "bRRxQ5zDLV6n"
      },
      "execution_count": null,
      "outputs": []
    },
    {
      "cell_type": "code",
      "source": [
        "print('Accuracy:', np.round(accuracy_score(y_test, y_pred), 4))"
      ],
      "metadata": {
        "id": "CSvuA3EcLpGz"
      },
      "execution_count": null,
      "outputs": []
    },
    {
      "cell_type": "code",
      "source": [
        "fpr, tpr, thresholds = roc_curve(y_test, y_pred)\n",
        "print(auc(fpr, tpr))"
      ],
      "metadata": {
        "id": "95IGtvHYeflE"
      },
      "execution_count": null,
      "outputs": []
    },
    {
      "cell_type": "markdown",
      "source": [
        "**Teste 39** LUNAR\n",
        "\n",
        "**NÃO RODA**"
      ],
      "metadata": {
        "id": "RPIy1sKiMLhN"
      }
    },
    {
      "cell_type": "code",
      "source": [
        "from pyod.models.lunar import LUNAR\n",
        "clf = LUNAR()\n",
        "clf.fit(X_train)\n",
        "\n",
        "y_pred = clf.predict(X_test)"
      ],
      "metadata": {
        "id": "CzbMcA5CMWE-"
      },
      "execution_count": null,
      "outputs": []
    },
    {
      "cell_type": "code",
      "source": [
        "print('Accuracy:', np.round(accuracy_score(y_test, y_pred), 4))"
      ],
      "metadata": {
        "id": "7Itfc7HYMjAk"
      },
      "execution_count": null,
      "outputs": []
    },
    {
      "cell_type": "code",
      "source": [
        "fpr, tpr, thresholds = roc_curve(y_test, y_pred)\n",
        "print(auc(fpr, tpr))"
      ],
      "metadata": {
        "id": "NytAogvBeGNF"
      },
      "execution_count": null,
      "outputs": []
    }
  ]
}